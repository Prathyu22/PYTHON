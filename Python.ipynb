{
  "nbformat": 4,
  "nbformat_minor": 0,
  "metadata": {
    "colab": {
      "name": "Python.ipynb",
      "provenance": [],
      "collapsed_sections": [],
      "authorship_tag": "ABX9TyMT+X6LzhqEcFOe9LJbUjEw",
      "include_colab_link": true
    },
    "kernelspec": {
      "name": "python3",
      "display_name": "Python 3"
    },
    "language_info": {
      "name": "python"
    }
  },
  "cells": [
    {
      "cell_type": "markdown",
      "metadata": {
        "id": "view-in-github",
        "colab_type": "text"
      },
      "source": [
        "<a href=\"https://colab.research.google.com/github/Prathyu22/PYthon-/blob/main/Python.ipynb\" target=\"_parent\"><img src=\"https://colab.research.google.com/assets/colab-badge.svg\" alt=\"Open In Colab\"/></a>"
      ]
    },
    {
      "cell_type": "code",
      "execution_count": null,
      "metadata": {
        "colab": {
          "base_uri": "https://localhost:8080/"
        },
        "id": "WAvIX5vecNAM",
        "outputId": "d43ae9ae-0abc-422d-de57-b716d6ef560c"
      },
      "outputs": [
        {
          "output_type": "stream",
          "name": "stdout",
          "text": [
            "12\n",
            "40\n",
            "190\n",
            "316.6666666666667\n",
            "False\n"
          ]
        }
      ],
      "source": [
        "#Play with code - Jack and his three friends.(Page-46)\n",
        "mileage = int(input())\n",
        "amount_per_litre = int(input())\n",
        "distance_one_way = int(input())\n",
        "divisible_by_five = False\n",
        "\n",
        "per_head_cost = (((distance_one_way * 2) / mileage) * amount_per_litre ) / 4\n",
        "\n",
        "if(per_head_cost % 5 == 0):\n",
        "  divisible_by_five = True\n",
        "else:\n",
        "  divisible_by_five = False\n",
        "\n",
        "print(per_head_cost)\n",
        "print(divisible_by_five)"
      ]
    },
    {
      "cell_type": "code",
      "source": [
        "#vowel or not\n",
        "x = input()\n",
        "if x in \"aeiouAEIOU\":\n",
        "  print(\"Vowel\")\n",
        "else:\n",
        "  print(\"Not an vowel\")"
      ],
      "metadata": {
        "colab": {
          "base_uri": "https://localhost:8080/"
        },
        "id": "zHRCC-Wgdrgq",
        "outputId": "3c426ab2-b1c5-4827-ceb3-8d153a3be308"
      },
      "execution_count": null,
      "outputs": [
        {
          "output_type": "stream",
          "name": "stdout",
          "text": [
            "A\n",
            "Vowel\n"
          ]
        }
      ]
    },
    {
      "cell_type": "code",
      "source": [
        "#count no. of vowels in the given string\n",
        "vowels = ['a','e','i','o','u']\n",
        "count = 0\n",
        "t = input(\"Enter a string : \")\n",
        "\n",
        "for i in vowels:\n",
        "  count += t.lower().count(i)\n",
        "  \n",
        "print(count)"
      ],
      "metadata": {
        "colab": {
          "base_uri": "https://localhost:8080/"
        },
        "id": "7GsaTMjjeSTK",
        "outputId": "8e1da8b0-515c-48ee-e064-476689e7d299"
      },
      "execution_count": null,
      "outputs": [
        {
          "output_type": "stream",
          "name": "stdout",
          "text": [
            "Enter a string : AEIOU\n",
            "5\n"
          ]
        }
      ]
    },
    {
      "cell_type": "code",
      "source": [
        "#convert a binary number to decimal\n",
        "n = input()\n",
        "print(int(n,2))"
      ],
      "metadata": {
        "colab": {
          "base_uri": "https://localhost:8080/"
        },
        "id": "mx6-dnXGfFih",
        "outputId": "901ea6f2-e87d-419d-e81f-4726247defd3"
      },
      "execution_count": null,
      "outputs": [
        {
          "output_type": "stream",
          "name": "stdout",
          "text": [
            "0010\n",
            "2\n"
          ]
        }
      ]
    },
    {
      "cell_type": "code",
      "source": [
        "#convert a decimal number to binary\n",
        "\n",
        "def DecimalToBinary(a):\n",
        "  if a>=1:\n",
        "    DecimalToBinary(a // 2)\n",
        "    print(a % 2, end=\"\")\n",
        "  \n",
        "a = int(input())\n",
        "DecimalToBinary(a)\n"
      ],
      "metadata": {
        "colab": {
          "base_uri": "https://localhost:8080/"
        },
        "id": "iccgWFS3fdFv",
        "outputId": "769d556e-6176-462a-d5ca-1f08d110b581"
      },
      "execution_count": null,
      "outputs": [
        {
          "output_type": "stream",
          "name": "stdout",
          "text": [
            "17\n",
            "10001"
          ]
        }
      ]
    },
    {
      "cell_type": "code",
      "source": [
        "#Concatenate the list of elements to a string\n",
        "li = [1,2,3,4,5]\n",
        "string = str(input())\n",
        "\n",
        "for i in li:\n",
        "  string += str(i)\n",
        "\n",
        "print(string)"
      ],
      "metadata": {
        "colab": {
          "base_uri": "https://localhost:8080/"
        },
        "id": "flZJ1LIpyuzj",
        "outputId": "bab3a308-52d1-44a6-b82c-f937e0209f13"
      },
      "execution_count": null,
      "outputs": [
        {
          "output_type": "stream",
          "name": "stdout",
          "text": [
            "Hii\n",
            "Hii12345\n"
          ]
        }
      ]
    },
    {
      "cell_type": "code",
      "source": [
        "#inputting a list\n",
        "li = []\n",
        "n = int(input())\n",
        "\n",
        "for i in range(0,n):\n",
        "  element = int(input())\n",
        "  li.append(element)\n",
        "\n",
        "print(li)"
      ],
      "metadata": {
        "colab": {
          "base_uri": "https://localhost:8080/"
        },
        "id": "KfgyxbyhUtNo",
        "outputId": "b954c0fb-9716-4dc6-f80c-95ceb17b2331"
      },
      "execution_count": null,
      "outputs": [
        {
          "output_type": "stream",
          "name": "stdout",
          "text": [
            "4\n",
            "1\n",
            "2\n",
            "3\n",
            "4\n",
            "[1, 2, 3, 4]\n"
          ]
        }
      ]
    },
    {
      "cell_type": "code",
      "source": [
        "#inputting a set\n",
        "'''The add() method doesn't add an element to the set \n",
        "if it's already present in it otherwise it will get added to the set.'''\n",
        "s = set()\n",
        "n = int(input())\n",
        "\n",
        "for i in range(0,n):\n",
        "  element = int(input())\n",
        "  s.add(element)\n",
        "\n",
        "print(s)"
      ],
      "metadata": {
        "colab": {
          "base_uri": "https://localhost:8080/"
        },
        "id": "lfQnpDFmVH4-",
        "outputId": "fcbe2ceb-f5eb-4056-e5e9-55531f2c1d2c"
      },
      "execution_count": null,
      "outputs": [
        {
          "output_type": "stream",
          "name": "stdout",
          "text": [
            "2\n",
            "1\n",
            "2\n",
            "{1, 2}\n"
          ]
        }
      ]
    },
    {
      "cell_type": "code",
      "source": [
        "#inputting dictionary\n",
        "d = {}\n",
        "\n",
        "n = int(input())\n",
        "\n",
        "d=dict(input().split() for x in range(n))\n",
        "print(d)"
      ],
      "metadata": {
        "colab": {
          "base_uri": "https://localhost:8080/"
        },
        "id": "8iaYvfLvWPpY",
        "outputId": "77442fe2-13f5-4a34-e649-62742e36b9de"
      },
      "execution_count": null,
      "outputs": [
        {
          "output_type": "stream",
          "name": "stdout",
          "text": [
            "2\n",
            "1 Gym\n",
            "2 FreshUp\n",
            "{'1': 'Gym', '2': 'FreshUp'}\n"
          ]
        }
      ]
    },
    {
      "cell_type": "code",
      "source": [
        "#inputting tuple\n",
        "# NOTE: Values seperated with commas are by default tuples.\n",
        "t = input()\n",
        "a = tuple(int(x) for x in t.split())\n",
        "print(a)"
      ],
      "metadata": {
        "colab": {
          "base_uri": "https://localhost:8080/"
        },
        "id": "yYgQUSTfiYMG",
        "outputId": "28545e14-284d-4c16-fc25-bac197f7d1d1"
      },
      "execution_count": null,
      "outputs": [
        {
          "output_type": "stream",
          "name": "stdout",
          "text": [
            "2 3 4 5\n",
            "(2, 3, 4, 5)\n"
          ]
        }
      ]
    },
    {
      "cell_type": "code",
      "source": [
        "# LCM of given numbers\n",
        "def lcm(x,y):\n",
        "  if x > y:\n",
        "    greater = x\n",
        "  else:\n",
        "    greater = y\n",
        "\n",
        "  while(True):\n",
        "    if( (greater % x == 0) and (greater % y == 0)):\n",
        "      lcm = greater\n",
        "      break\n",
        "    greater += 1\n",
        "  \n",
        "  return lcm\n",
        "\n",
        "print(lcm(2,3))"
      ],
      "metadata": {
        "colab": {
          "base_uri": "https://localhost:8080/"
        },
        "id": "nSHb-32trNZY",
        "outputId": "d8482412-179c-4249-cf9a-734a9c40b966"
      },
      "execution_count": null,
      "outputs": [
        {
          "output_type": "stream",
          "name": "stdout",
          "text": [
            "6\n"
          ]
        }
      ]
    },
    {
      "cell_type": "code",
      "source": [
        "# Distance between 2 points\n",
        "import math\n",
        "p1 = [4,0]\n",
        "p2 = [6,6]\n",
        "d = math.sqrt( ((p1[0] - p2[0])**2) + ((p1[1] - p2[1])**2) )\n",
        "print(d)"
      ],
      "metadata": {
        "colab": {
          "base_uri": "https://localhost:8080/"
        },
        "id": "toxHSR6LuTkd",
        "outputId": "d58512e9-9d51-4fb9-b93e-c7f987270f9f"
      },
      "execution_count": null,
      "outputs": [
        {
          "output_type": "stream",
          "name": "stdout",
          "text": [
            "6.324555320336759\n"
          ]
        }
      ]
    },
    {
      "cell_type": "code",
      "source": [
        "# Checking for lower case letter in the given string\n",
        "s = str(input(\"Enter a string: \"))\n",
        "print(any(c.islower() for c in s))"
      ],
      "metadata": {
        "colab": {
          "base_uri": "https://localhost:8080/"
        },
        "id": "Dc5ZKmdLwF4g",
        "outputId": "7dbc74dd-3df3-4d92-da57-88969481e0a6"
      },
      "execution_count": null,
      "outputs": [
        {
          "output_type": "stream",
          "name": "stdout",
          "text": [
            "Enter a string: HII\n",
            "False\n"
          ]
        }
      ]
    },
    {
      "cell_type": "code",
      "source": [
        "# Checking whether given elements are all distinct or not\n",
        "''' here we can use \"set\" data type as set consists of only unique elements'''\n",
        "\n",
        "def func(data):\n",
        "  if len(data) == len(set(data)):\n",
        "    return True\n",
        "  else:\n",
        "    return False\n",
        "\n",
        "print(func([5,3,82,0.55,0]))"
      ],
      "metadata": {
        "colab": {
          "base_uri": "https://localhost:8080/"
        },
        "id": "54mF4sEzwwth",
        "outputId": "798d0ed6-fdf0-4327-ccf3-4b1dced03c0e"
      },
      "execution_count": null,
      "outputs": [
        {
          "output_type": "stream",
          "name": "stdout",
          "text": [
            "True\n"
          ]
        }
      ]
    },
    {
      "cell_type": "markdown",
      "source": [
        "filter() & map() - 2 arguments\n",
        "                 - 1. Functionality to be performed\n",
        "                 - 2. Sequence of the arguments"
      ],
      "metadata": {
        "id": "VdkqGNbdyqj-"
      }
    },
    {
      "cell_type": "code",
      "source": [
        "# filter() considers only true values\n",
        "# map() considers both true and false values\n",
        "\n",
        "def isEven(n):\n",
        "  if n%2:\n",
        "    return False\n",
        "  else:\n",
        "    return True\n",
        "\n",
        "def square(n):\n",
        "  return n*n\n",
        "\n",
        "li = [1,2,3,4,5]\n",
        "print(list(map(isEven,li)))\n",
        "print(list(filter(square,li)))"
      ],
      "metadata": {
        "colab": {
          "base_uri": "https://localhost:8080/"
        },
        "id": "gqVM3CV9ypoH",
        "outputId": "22444862-22b9-4ca8-c838-ac687be9ac0d"
      },
      "execution_count": null,
      "outputs": [
        {
          "output_type": "stream",
          "name": "stdout",
          "text": [
            "[False, True, False, True, False]\n",
            "[1, 2, 3, 4, 5]\n"
          ]
        }
      ]
    },
    {
      "cell_type": "code",
      "source": [
        "''' WAP to take names as input list and \n",
        "print the length of each name as a string. '''\n",
        "\n",
        "print(list(map(len, input().split())))\n"
      ],
      "metadata": {
        "colab": {
          "base_uri": "https://localhost:8080/"
        },
        "id": "ify1e8xO0AU1",
        "outputId": "b5f8301c-6f9e-4e5c-b05b-9ee8f45f3eac"
      },
      "execution_count": null,
      "outputs": [
        {
          "output_type": "stream",
          "name": "stdout",
          "text": [
            "Vamsi Prathyu Siri\n",
            "[5, 7, 4]\n"
          ]
        }
      ]
    },
    {
      "cell_type": "code",
      "source": [
        "''' WAP to take a list of integer values and filter only prime numbers '''\n",
        "def isPrime(n):\n",
        "  for i in range(2, int(n**2)+2):\n",
        "    if n%i == 0:\n",
        "      return False\n",
        "    else:\n",
        "      return True\n",
        "\n",
        "print(list(filter(isPrime, map(int, input().split()))))\n"
      ],
      "metadata": {
        "colab": {
          "base_uri": "https://localhost:8080/"
        },
        "id": "S1WeI0u61sEw",
        "outputId": "2d7d2c39-61d7-4a59-cd33-7bf8c9c8890c"
      },
      "execution_count": null,
      "outputs": [
        {
          "output_type": "stream",
          "name": "stdout",
          "text": [
            "1 2 3 4 5 6 7 8 9 10\n",
            "[1, 3, 5, 7, 9]\n"
          ]
        }
      ]
    },
    {
      "cell_type": "markdown",
      "source": [
        "TUPLES & MODULES"
      ],
      "metadata": {
        "id": "FMCnROGR3_KX"
      }
    },
    {
      "cell_type": "code",
      "source": [
        "#Types of arguments :\n",
        "''' 1.Required arguments (Positional)\n",
        "    2.Keyword args (Non-positional / Named args)\n",
        "    3.Default args \n",
        "    4.Variable Length args '''"
      ],
      "metadata": {
        "id": "lASlRqFG3r7O"
      },
      "execution_count": null,
      "outputs": []
    },
    {
      "cell_type": "code",
      "source": [
        "'''\n",
        "* We can have any no. of default arguments.\n",
        "**** We cannot have any other args after the default argument. (a, b=10) --> That's it.\n",
        "* The arg is assigned within the func. call and the args copy the values according to their names and hence called as Non-positional / Named / Keyword Arguments.\n",
        "  Here in func. call and func. def, arg names must be same.\n",
        "**** We cannot have any positional after non-positional args. (a=10, b='Hi', c) --> ERROR.\n",
        "* Variable-length Argumenets / Arbitary arguments :\n",
        "    ---> Always handled by the type \"TUPLE\".\n",
        "    ---> We can have range from empty tuple to any no. of values in a tuple.\n",
        "    ---> (*a,b) = ERROR. (Since 'b' must be mandatory keyword arg.)"
      ],
      "metadata": {
        "id": "2kQ3Jh-t8Vil"
      },
      "execution_count": null,
      "outputs": []
    },
    {
      "cell_type": "code",
      "source": [
        "'''\n",
        "func(a, b=90, *c, d, e=23)\n",
        "\n",
        "Here, a,b are POSITIONAL ARGUMENTS\n",
        "      ---> a = MANDATORY\n",
        "      ---> b = OPTIONAL\n",
        "    \n",
        "      d,e are KEYWORD / NON-POSITIONAL ARGUMENTS\n",
        "      ---> d = KEYWORD & MANDATORY\n",
        "      ---> e = KEYWORD & OPTIONAL\n",
        "\n",
        "      c = ARBITARY ARGUMENT.\n",
        "'''"
      ],
      "metadata": {
        "id": "YFs2Pbf_-ekT"
      },
      "execution_count": null,
      "outputs": []
    },
    {
      "cell_type": "code",
      "source": [
        "#Default args\n",
        "\n",
        "def func(a,b=\"5\"):\n",
        "  print(a)\n",
        "  print(b)\n",
        "  return\n",
        "a = \"Hello\"\n",
        "b = \"World\"\n",
        "func(b)"
      ],
      "metadata": {
        "colab": {
          "base_uri": "https://localhost:8080/"
        },
        "id": "yYEn3QgR5k9k",
        "outputId": "2f5eff25-f373-42ab-a9b4-326778cb234e"
      },
      "execution_count": null,
      "outputs": [
        {
          "output_type": "stream",
          "name": "stdout",
          "text": [
            "World\n",
            "5\n"
          ]
        }
      ]
    },
    {
      "cell_type": "code",
      "source": [
        "#required args\n",
        "def func(a,b):\n",
        "  print(a)\n",
        "  print(b)\n",
        "  return\n",
        "a = \"Hii\"\n",
        "b = 22\n",
        "func(a,b)\n",
        "print(end=\"\\n\")\n",
        "func(b,a)"
      ],
      "metadata": {
        "colab": {
          "base_uri": "https://localhost:8080/"
        },
        "id": "v00njAnu6AE8",
        "outputId": "868c815a-314f-47d3-887c-58dbb1fdea77"
      },
      "execution_count": null,
      "outputs": [
        {
          "output_type": "stream",
          "name": "stdout",
          "text": [
            "Hii\n",
            "22\n",
            "\n",
            "22\n",
            "Hii\n"
          ]
        }
      ]
    },
    {
      "cell_type": "code",
      "source": [
        "#keyword args\n",
        "def func(a,b):\n",
        "  print(a)\n",
        "  print(b)\n",
        "  return\n",
        "func(a=\"List:\", b)"
      ],
      "metadata": {
        "colab": {
          "base_uri": "https://localhost:8080/",
          "height": 134
        },
        "id": "RMI_Ys1G6dVh",
        "outputId": "8a97f104-6749-450b-8b87-dbfa4383a5fe"
      },
      "execution_count": null,
      "outputs": [
        {
          "output_type": "error",
          "ename": "SyntaxError",
          "evalue": "ignored",
          "traceback": [
            "\u001b[0;36m  File \u001b[0;32m\"<ipython-input-6-52a058c4ddf1>\"\u001b[0;36m, line \u001b[0;32m6\u001b[0m\n\u001b[0;31m    func(a=\"List:\", b)\u001b[0m\n\u001b[0m                   ^\u001b[0m\n\u001b[0;31mSyntaxError\u001b[0m\u001b[0;31m:\u001b[0m positional argument follows keyword argument\n"
          ]
        }
      ]
    },
    {
      "cell_type": "code",
      "source": [
        "#keyword args\n",
        "def func(a,b):\n",
        "  print(a)\n",
        "  print(b)\n",
        "  return\n",
        "func(a=\"List:\", b=[1,2,3,4,5])"
      ],
      "metadata": {
        "colab": {
          "base_uri": "https://localhost:8080/"
        },
        "id": "eBvtY6eg6rma",
        "outputId": "2a270c62-3bb1-4a45-f4d2-8884f367b55a"
      },
      "execution_count": null,
      "outputs": [
        {
          "output_type": "stream",
          "name": "stdout",
          "text": [
            "List:\n",
            "[1, 2, 3, 4, 5]\n"
          ]
        }
      ]
    },
    {
      "cell_type": "code",
      "source": [
        "#variable length args\n",
        "def func(a, *b):\n",
        "  print(a)\n",
        "  print(b)\n",
        "  print(c)\n",
        "  print(d)\n",
        "  print(e)\n",
        "  print(f)\n",
        "  print(g)\n",
        "  return\n",
        "\n",
        "a = 123\n",
        "b = 123.45\n",
        "c = 'String'\n",
        "d = [1,2,3,4,5]\n",
        "e = {1,2,3,4,5}\n",
        "f = {1:'Gym', 2:'FreshUp'}\n",
        "g = (1,2,3,4,5)\n",
        "\n",
        "func(a,b)"
      ],
      "metadata": {
        "colab": {
          "base_uri": "https://localhost:8080/"
        },
        "id": "LU8DahB463nv",
        "outputId": "f39cd362-2fcd-476e-dd06-6a32ed3b46b2"
      },
      "execution_count": null,
      "outputs": [
        {
          "output_type": "stream",
          "name": "stdout",
          "text": [
            "123\n",
            "(123.45,)\n",
            "String\n",
            "[1, 2, 3, 4, 5]\n",
            "{1, 2, 3, 4, 5}\n",
            "{1: 'Gym', 2: 'FreshUp'}\n",
            "(1, 2, 3, 4, 5)\n"
          ]
        }
      ]
    }
  ]
}