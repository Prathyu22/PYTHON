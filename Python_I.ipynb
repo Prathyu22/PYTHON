{
  "nbformat": 4,
  "nbformat_minor": 0,
  "metadata": {
    "colab": {
      "name": "Python-I.ipynb",
      "provenance": [],
      "collapsed_sections": [],
      "authorship_tag": "ABX9TyMIaHaIg3Hxlp4DyuhrCt+8",
      "include_colab_link": true
    },
    "kernelspec": {
      "name": "python3",
      "display_name": "Python 3"
    },
    "language_info": {
      "name": "python"
    }
  },
  "cells": [
    {
      "cell_type": "markdown",
      "metadata": {
        "id": "view-in-github",
        "colab_type": "text"
      },
      "source": [
        "<a href=\"https://colab.research.google.com/github/Prathyu22/Python/blob/Python-Coding/Python_I.ipynb\" target=\"_parent\"><img src=\"https://colab.research.google.com/assets/colab-badge.svg\" alt=\"Open In Colab\"/></a>"
      ]
    },
    {
      "cell_type": "markdown",
      "source": [
        "Lambda Functions / Anonymous Functions :"
      ],
      "metadata": {
        "id": "rcdjKQqnf_UQ"
      }
    },
    {
      "cell_type": "markdown",
      "source": [
        "1. These functions are created without \"def\" keyword.\n",
        "2. These are used for small functionality.\n",
        "3. These functions can have any no. of args but can return only one value.\n",
        "\n",
        "SYNTAX : \n",
        "[arg1 [arg2,....argn]]: expression\n",
        " \n",
        " \n",
        " This function consists of 2 arguments : \n",
        "        ---> 1. List of args.\n",
        "        ---> 2. Functionality."
      ],
      "metadata": {
        "id": "SLrxZUmmgGvQ"
      }
    },
    {
      "cell_type": "code",
      "execution_count": null,
      "metadata": {
        "colab": {
          "base_uri": "https://localhost:8080/"
        },
        "id": "FY2jGpH6an96",
        "outputId": "d6c693e1-9343-4bed-da3c-ba4f8710f407"
      },
      "outputs": [
        {
          "output_type": "stream",
          "name": "stdout",
          "text": [
            "7\n"
          ]
        }
      ],
      "source": [
        "a = lambda x,y : x+y\n",
        "print(a(3,4))"
      ]
    },
    {
      "cell_type": "code",
      "source": [
        "print((lambda x,y : x+y) (int(input()),int(input())) )"
      ],
      "metadata": {
        "colab": {
          "base_uri": "https://localhost:8080/"
        },
        "id": "Q_uIPX_cnFUt",
        "outputId": "2b7f486f-7870-4cfd-d57c-2bbbfeaf9a33"
      },
      "execution_count": null,
      "outputs": [
        {
          "output_type": "stream",
          "name": "stdout",
          "text": [
            "5\n",
            "5\n",
            "10\n"
          ]
        }
      ]
    },
    {
      "cell_type": "markdown",
      "source": [
        "Scope of the Variables :\n",
        "\n",
        "      1. BUILT-IN\n",
        "         ---> Reserved names for Python built-in modules.\n",
        "      2. GLOBAL\n",
        "         ---> Defined at highest level (outside of the function).\n",
        "      3. ENCLOSED\n",
        "         ---> Defined inside some enclosing function.\n",
        "      4. LOCAL\n",
        "         ---> Defined inside the function / class and are local to them.\n",
        "  \n",
        "\n",
        "\n"
      ],
      "metadata": {
        "id": "3xnNLCxjn3M1"
      }
    },
    {
      "cell_type": "code",
      "source": [
        "# To modify a global variable from inside a function, we use the global statement.\n",
        "\n",
        "def func():\n",
        "  global value # changes the global value\n",
        "  value = \"Local\"\n",
        "\n",
        "value = \"Global\"\n",
        "print(value)\n",
        "func()\n",
        "print(value)"
      ],
      "metadata": {
        "colab": {
          "base_uri": "https://localhost:8080/"
        },
        "id": "EB-4O-5lnyPE",
        "outputId": "16b550c8-bf54-4c30-9a43-de6fd3884973"
      },
      "execution_count": null,
      "outputs": [
        {
          "output_type": "stream",
          "name": "stdout",
          "text": [
            "Global\n",
            "Local\n"
          ]
        }
      ]
    },
    {
      "cell_type": "markdown",
      "source": [
        "Returning Multiple Values\n"
      ],
      "metadata": {
        "id": "9S8XMwcDrwVH"
      }
    },
    {
      "cell_type": "code",
      "source": [
        "def nOperation(n):\n",
        "  return n*n, n**n, n*n*n, n/2, n-n*2\n",
        "print(nOperation(2)) # It returns a tuple contains the elements as the values of the return statement.\n",
        "print(*nOperation(2)) # It returns just the values from the return statement."
      ],
      "metadata": {
        "colab": {
          "base_uri": "https://localhost:8080/"
        },
        "id": "5xsAZnjHrr0H",
        "outputId": "75da5ccd-9311-4213-c1ce-5dfe7f8b1d39"
      },
      "execution_count": null,
      "outputs": [
        {
          "output_type": "stream",
          "name": "stdout",
          "text": [
            "(4, 4, 8, 1.0, -2)\n",
            "4 4 8 1.0 -2\n"
          ]
        }
      ]
    },
    {
      "cell_type": "markdown",
      "source": [
        "Function Tools"
      ],
      "metadata": {
        "id": "pNj9IqHI1x77"
      }
    },
    {
      "cell_type": "markdown",
      "source": [
        "This \"function tools\" helps us in not repeating args every time.\n",
        "This adds some default args to the function that we use often but can't / don't want to redefine."
      ],
      "metadata": {
        "id": "Yt227iYZ11jo"
      }
    },
    {
      "cell_type": "code",
      "source": [
        "''' WITHOUT PARTIAL '''\n",
        "import functools\n",
        "def append_to_list(li,y):\n",
        "  li.append(y)\n",
        "\n",
        "li = []\n",
        "append_to_list(li,1)\n",
        "append_to_list(li,2)\n",
        "append_to_list(li,3)\n",
        "append_to_list(li,4)\n",
        "append_to_list(li,5)\n",
        "print(li)\n"
      ],
      "metadata": {
        "colab": {
          "base_uri": "https://localhost:8080/"
        },
        "id": "9yWoln2Gsh69",
        "outputId": "f10f1db9-b0ef-4401-a253-ffbd78c976ad"
      },
      "execution_count": null,
      "outputs": [
        {
          "output_type": "stream",
          "name": "stdout",
          "text": [
            "[1, 2, 3, 4, 5]\n"
          ]
        }
      ]
    },
    {
      "cell_type": "code",
      "source": [
        "''' WITH PARTIAL '''\n",
        "import functools\n",
        "def append_to_list(li,y):\n",
        "  li.append(y)\n",
        "\n",
        "li = []\n",
        "func = functools.partial(append_to_list,li)\n",
        "func(1)\n",
        "func(2)\n",
        "func(3)\n",
        "func(4)\n",
        "func(5)\n",
        "print(li)"
      ],
      "metadata": {
        "colab": {
          "base_uri": "https://localhost:8080/"
        },
        "id": "bhjV__8P3Jw1",
        "outputId": "427a03ff-166f-485a-a6f6-2b3857b72c3a"
      },
      "execution_count": null,
      "outputs": [
        {
          "output_type": "stream",
          "name": "stdout",
          "text": [
            "[1, 2, 3, 4, 5]\n"
          ]
        }
      ]
    },
    {
      "cell_type": "markdown",
      "source": [
        "Reduce - Combining pairs into a single result :"
      ],
      "metadata": {
        "id": "zuodCc9-3kA9"
      }
    },
    {
      "cell_type": "code",
      "source": [
        "# It uses a mathematical tool called \"fold\".\n",
        "# It applies a function to the first and second elements, uses that result to apply together with the third element and continues until the list is exhausted.\n",
        "\n",
        "import functools\n",
        "def add(x,y):\n",
        "  return x+y\n",
        "\n",
        "print(functools.reduce(add,range(1,7)))"
      ],
      "metadata": {
        "colab": {
          "base_uri": "https://localhost:8080/"
        },
        "id": "UMxNR44V3o-f",
        "outputId": "26ee6157-ac21-4e33-dd30-bb38c951fff5"
      },
      "execution_count": null,
      "outputs": [
        {
          "output_type": "stream",
          "name": "stdout",
          "text": [
            "21\n"
          ]
        }
      ]
    },
    {
      "cell_type": "markdown",
      "source": [
        "Itertools "
      ],
      "metadata": {
        "id": "SeqWpfHrxrQA"
      }
    },
    {
      "cell_type": "markdown",
      "source": [
        "Here, accumulate() func is similar to the reduce() function.\n",
        "The major difference is that accumulate() func returns the immediate results."
      ],
      "metadata": {
        "id": "l49cig4Vx7VS"
      }
    },
    {
      "cell_type": "code",
      "source": [
        "import itertools\n",
        "def add(x,y):\n",
        "  return x+y\n",
        "\n",
        "li = list(itertools.accumulate(add,range(1,7)))\n",
        "print(li)"
      ],
      "metadata": {
        "colab": {
          "base_uri": "https://localhost:8080/",
          "height": 217
        },
        "id": "PA-pLhT7xngr",
        "outputId": "312784e5-0e60-45cc-c2d1-b4af490dbd40"
      },
      "execution_count": null,
      "outputs": [
        {
          "output_type": "error",
          "ename": "TypeError",
          "evalue": "ignored",
          "traceback": [
            "\u001b[0;31m---------------------------------------------------------------------------\u001b[0m",
            "\u001b[0;31mTypeError\u001b[0m                                 Traceback (most recent call last)",
            "\u001b[0;32m<ipython-input-2-90cb262b78d5>\u001b[0m in \u001b[0;36m<module>\u001b[0;34m()\u001b[0m\n\u001b[1;32m      3\u001b[0m   \u001b[0;32mreturn\u001b[0m \u001b[0mx\u001b[0m\u001b[0;34m+\u001b[0m\u001b[0my\u001b[0m\u001b[0;34m\u001b[0m\u001b[0;34m\u001b[0m\u001b[0m\n\u001b[1;32m      4\u001b[0m \u001b[0;34m\u001b[0m\u001b[0m\n\u001b[0;32m----> 5\u001b[0;31m \u001b[0mli\u001b[0m \u001b[0;34m=\u001b[0m \u001b[0mitertools\u001b[0m\u001b[0;34m.\u001b[0m\u001b[0maccumulate\u001b[0m\u001b[0;34m(\u001b[0m\u001b[0madd\u001b[0m\u001b[0;34m,\u001b[0m\u001b[0mrange\u001b[0m\u001b[0;34m(\u001b[0m\u001b[0;36m1\u001b[0m\u001b[0;34m,\u001b[0m\u001b[0;36m7\u001b[0m\u001b[0;34m)\u001b[0m\u001b[0;34m)\u001b[0m\u001b[0;34m\u001b[0m\u001b[0;34m\u001b[0m\u001b[0m\n\u001b[0m\u001b[1;32m      6\u001b[0m \u001b[0mprint\u001b[0m\u001b[0;34m(\u001b[0m\u001b[0mli\u001b[0m\u001b[0;34m)\u001b[0m\u001b[0;34m\u001b[0m\u001b[0;34m\u001b[0m\u001b[0m\n",
            "\u001b[0;31mTypeError\u001b[0m: 'function' object is not iterable"
          ]
        }
      ]
    },
    {
      "cell_type": "code",
      "source": [
        "import itertools\n",
        "def add(x,y):\n",
        "  return x+y\n",
        "\n",
        "li = (itertools.accumulate(range(1,7),add))\n",
        "print(li)"
      ],
      "metadata": {
        "colab": {
          "base_uri": "https://localhost:8080/"
        },
        "id": "nzPtDOzAysOq",
        "outputId": "cdb91b60-d133-4a4e-a189-0bc6069ab64e"
      },
      "execution_count": null,
      "outputs": [
        {
          "output_type": "stream",
          "name": "stdout",
          "text": [
            "<itertools.accumulate object at 0x7fef16097640>\n"
          ]
        }
      ]
    },
    {
      "cell_type": "code",
      "source": [
        "import itertools\n",
        "def add(x,y):\n",
        "  return x+y\n",
        "\n",
        "li = list(itertools.accumulate(range(1,7),add))\n",
        "print(li)"
      ],
      "metadata": {
        "colab": {
          "base_uri": "https://localhost:8080/"
        },
        "id": "o2-P61Oyy2WQ",
        "outputId": "f902b7f2-9a6c-4a9e-ac04-27d16a6e4171"
      },
      "execution_count": null,
      "outputs": [
        {
          "output_type": "stream",
          "name": "stdout",
          "text": [
            "[1, 3, 6, 10, 15, 21]\n"
          ]
        }
      ]
    },
    {
      "cell_type": "markdown",
      "source": [
        "Chain - combining multiple results"
      ],
      "metadata": {
        "id": "K4SL7WW3zJJg"
      }
    },
    {
      "cell_type": "markdown",
      "source": [
        "The chain() func combines the results of multiple iterators.\n",
        "- It is useful when we have multiple lists, iterators, etc...\n",
        "- It just combine them with a simple chain."
      ],
      "metadata": {
        "id": "5h5zy6jNzNjY"
      }
    },
    {
      "cell_type": "code",
      "source": [
        "#chain with 3 args\n",
        "a = range(0,3) # 0,1,2\n",
        "b = range(1,3) # 1,2\n",
        "c = range(0,1) # 0\n",
        "print(list(itertools.chain(a,b,c)))"
      ],
      "metadata": {
        "colab": {
          "base_uri": "https://localhost:8080/"
        },
        "id": "8h_hio9BzfFg",
        "outputId": "fede3848-788b-4ffa-ebc9-8a5ebbd10b5a"
      },
      "execution_count": null,
      "outputs": [
        {
          "output_type": "stream",
          "name": "stdout",
          "text": [
            "[0, 1, 2, 1, 2, 0]\n"
          ]
        }
      ]
    },
    {
      "cell_type": "markdown",
      "source": [
        "A small variant of chain accepts an iterable containing iterables, namely \"chain.from_iterable()\"."
      ],
      "metadata": {
        "id": "dItmwJtx1Cge"
      }
    },
    {
      "cell_type": "code",
      "source": [
        "a = range(0,3) # 0,1,2\n",
        "b = range(1,3) # 1,2\n",
        "c = range(0,1) # 0\n",
        "\n",
        "li = [a,b,c]\n",
        "l = list(itertools.chain.from_iterable(li))\n",
        "print(l)\n",
        "print(li)"
      ],
      "metadata": {
        "colab": {
          "base_uri": "https://localhost:8080/"
        },
        "id": "J23L9ucK0U-o",
        "outputId": "3341b883-2ec4-4750-9e49-189656044b83"
      },
      "execution_count": null,
      "outputs": [
        {
          "output_type": "stream",
          "name": "stdout",
          "text": [
            "[0, 1, 2, 1, 2, 0]\n",
            "[range(0, 3), range(1, 3), range(0, 1)]\n"
          ]
        }
      ]
    },
    {
      "cell_type": "markdown",
      "source": [
        "PERMUTATIONS & COMBINATIONS "
      ],
      "metadata": {
        "id": "Q02V7kNL1gf9"
      }
    },
    {
      "cell_type": "markdown",
      "source": [
        "- itertools.combinations()\n",
        "-itertools.combinations_with_replacement()\n",
        "\n",
        "* 2 args\n",
        "  ---> 1. list\n",
        "  ---> 2. specific length"
      ],
      "metadata": {
        "id": "DGP8SAc91s6U"
      }
    },
    {
      "cell_type": "code",
      "source": [
        "print(list(itertools.combinations([1,2,3,4,5], 2)))"
      ],
      "metadata": {
        "colab": {
          "base_uri": "https://localhost:8080/"
        },
        "id": "S7i9Qn0y1bcv",
        "outputId": "25da41d2-072b-492c-f1c7-d7053dfdb186"
      },
      "execution_count": null,
      "outputs": [
        {
          "output_type": "stream",
          "name": "stdout",
          "text": [
            "[(1, 2), (1, 3), (1, 4), (1, 5), (2, 3), (2, 4), (2, 5), (3, 4), (3, 5), (4, 5)]\n"
          ]
        }
      ]
    },
    {
      "cell_type": "code",
      "source": [
        "print(list(itertools.combinations_with_replacement([1,2,3,4,5], 2)))"
      ],
      "metadata": {
        "colab": {
          "base_uri": "https://localhost:8080/"
        },
        "id": "QNRT3IQm2r3G",
        "outputId": "f5ee5bc1-8680-493e-a2c7-7675c0f2c13a"
      },
      "execution_count": null,
      "outputs": [
        {
          "output_type": "stream",
          "name": "stdout",
          "text": [
            "[(1, 1), (1, 2), (1, 3), (1, 4), (1, 5), (2, 2), (2, 3), (2, 4), (2, 5), (3, 3), (3, 4), (3, 5), (4, 4), (4, 5), (5, 5)]\n"
          ]
        }
      ]
    },
    {
      "cell_type": "code",
      "source": [
        "print(list(itertools.permutations([1,2,3,4,5], 2)))"
      ],
      "metadata": {
        "colab": {
          "base_uri": "https://localhost:8080/"
        },
        "id": "5iwsD58d2vT1",
        "outputId": "2766a230-998c-4661-a694-dbc024408590"
      },
      "execution_count": null,
      "outputs": [
        {
          "output_type": "stream",
          "name": "stdout",
          "text": [
            "[(1, 2), (1, 3), (1, 4), (1, 5), (2, 1), (2, 3), (2, 4), (2, 5), (3, 1), (3, 2), (3, 4), (3, 5), (4, 1), (4, 2), (4, 3), (4, 5), (5, 1), (5, 2), (5, 3), (5, 4)]\n"
          ]
        }
      ]
    },
    {
      "cell_type": "code",
      "source": [
        "# permutations_with_replacement is not applicable.\n",
        "print(list(itertools.permutations_with_replacement([1,2,3,4,5], 2)))"
      ],
      "metadata": {
        "colab": {
          "base_uri": "https://localhost:8080/",
          "height": 183
        },
        "id": "CE9g7pMM2z7h",
        "outputId": "fc4a5ca6-6408-47a9-9bc9-cf357bc431c8"
      },
      "execution_count": null,
      "outputs": [
        {
          "output_type": "error",
          "ename": "AttributeError",
          "evalue": "ignored",
          "traceback": [
            "\u001b[0;31m---------------------------------------------------------------------------\u001b[0m",
            "\u001b[0;31mAttributeError\u001b[0m                            Traceback (most recent call last)",
            "\u001b[0;32m<ipython-input-16-19f7a1585e2c>\u001b[0m in \u001b[0;36m<module>\u001b[0;34m()\u001b[0m\n\u001b[0;32m----> 1\u001b[0;31m \u001b[0mprint\u001b[0m\u001b[0;34m(\u001b[0m\u001b[0mlist\u001b[0m\u001b[0;34m(\u001b[0m\u001b[0mitertools\u001b[0m\u001b[0;34m.\u001b[0m\u001b[0mpermutations_with_replacement\u001b[0m\u001b[0;34m(\u001b[0m\u001b[0;34m[\u001b[0m\u001b[0;36m1\u001b[0m\u001b[0;34m,\u001b[0m\u001b[0;36m2\u001b[0m\u001b[0;34m,\u001b[0m\u001b[0;36m3\u001b[0m\u001b[0;34m,\u001b[0m\u001b[0;36m4\u001b[0m\u001b[0;34m,\u001b[0m\u001b[0;36m5\u001b[0m\u001b[0;34m]\u001b[0m\u001b[0;34m,\u001b[0m \u001b[0;36m2\u001b[0m\u001b[0;34m)\u001b[0m\u001b[0;34m)\u001b[0m\u001b[0;34m)\u001b[0m\u001b[0;34m\u001b[0m\u001b[0;34m\u001b[0m\u001b[0m\n\u001b[0m",
            "\u001b[0;31mAttributeError\u001b[0m: module 'itertools' has no attribute 'permutations_with_replacement'"
          ]
        }
      ]
    },
    {
      "cell_type": "markdown",
      "source": [
        "COUNT - similar to the range() func.\n",
        "      - its range is infinite. \n",
        "      - Don't use list(itertools.count())\n",
        "      - Can use floating - point numbers."
      ],
      "metadata": {
        "id": "TlKv7zp49b8q"
      }
    },
    {
      "cell_type": "code",
      "source": [
        "n = int(input())\n",
        "A = []\n",
        "for i in range(0,n):\n",
        "    l = int(input())\n",
        "    A.append(l)\n",
        "\n",
        "print(A[::-1])\n"
      ],
      "metadata": {
        "id": "Wce8s3dv3DQv",
        "colab": {
          "base_uri": "https://localhost:8080/"
        },
        "outputId": "9088d9b0-511a-4859-b0d1-64654a001535"
      },
      "execution_count": null,
      "outputs": [
        {
          "output_type": "stream",
          "name": "stdout",
          "text": [
            "2\n",
            "1\n",
            "2\n",
            "[2, 1]\n"
          ]
        }
      ]
    }
  ]
}